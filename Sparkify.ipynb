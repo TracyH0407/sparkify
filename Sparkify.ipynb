{
 "cells": [
  {
   "cell_type": "markdown",
   "metadata": {},
   "source": [
    "# Sparkify Project Workspace\n",
    "This workspace contains a tiny subset (128MB) of the full dataset available (12GB). Feel free to use this workspace to build your project, or to explore a smaller subset with Spark before deploying your cluster on the cloud. Instructions for setting up your Spark cluster is included in the last lesson of the Extracurricular Spark Course content.\n",
    "\n",
    "You can follow the steps below to guide your data analysis and model building portion of this project."
   ]
  },
  {
   "cell_type": "code",
   "execution_count": 1,
   "metadata": {},
   "outputs": [],
   "source": [
    "# import libraries\n",
    "from pyspark.sql import SparkSession\n",
    "from pyspark.sql import functions as fs\n",
    "from pyspark.sql.types import IntegerType\n",
    "from pyspark.sql import Window\n",
    "\n",
    "import datetime\n",
    "\n",
    "import pandas as pd\n",
    "import numpy as np\n",
    "import seaborn as sns\n",
    "\n",
    "\n",
    "from pyspark.ml import Pipeline\n",
    "from pyspark.ml import Transformer\n",
    "from pyspark.ml.classification import LogisticRegression, RandomForestClassifier, GBTClassifier, DecisionTreeClassifier, NaiveBayes, MultilayerPerceptronClassifier\n",
    "from pyspark.ml.evaluation import MulticlassClassificationEvaluator\n",
    "from pyspark.ml.feature import CountVectorizer, IDF, Normalizer, PCA, RegexTokenizer, StandardScaler, StopWordsRemover, StringIndexer, VectorAssembler\n",
    "from pyspark.ml.regression import LinearRegression\n",
    "from pyspark.ml.tuning import CrossValidator, ParamGridBuilder"
   ]
  },
  {
   "cell_type": "code",
   "execution_count": 3,
   "metadata": {},
   "outputs": [],
   "source": [
    "# create a Spark session\n",
    "spark = SparkSession \\\n",
    "    .builder \\\n",
    "    .appName(\"Sparkify\") \\\n",
    "    .getOrCreate()"
   ]
  },
  {
   "cell_type": "markdown",
   "metadata": {},
   "source": [
    "# Load and Clean Dataset\n",
    "In this workspace, the mini-dataset file is `mini_sparkify_event_data.json`. Load and clean the dataset, checking for invalid or missing data - for example, records without userids or sessionids. "
   ]
  },
  {
   "cell_type": "code",
   "execution_count": 3,
   "metadata": {},
   "outputs": [
    {
     "name": "stdout",
     "output_type": "stream",
     "text": [
      "root\n",
      " |-- artist: string (nullable = true)\n",
      " |-- auth: string (nullable = true)\n",
      " |-- firstName: string (nullable = true)\n",
      " |-- gender: string (nullable = true)\n",
      " |-- itemInSession: long (nullable = true)\n",
      " |-- lastName: string (nullable = true)\n",
      " |-- length: double (nullable = true)\n",
      " |-- level: string (nullable = true)\n",
      " |-- location: string (nullable = true)\n",
      " |-- method: string (nullable = true)\n",
      " |-- page: string (nullable = true)\n",
      " |-- registration: long (nullable = true)\n",
      " |-- sessionId: long (nullable = true)\n",
      " |-- song: string (nullable = true)\n",
      " |-- status: long (nullable = true)\n",
      " |-- ts: long (nullable = true)\n",
      " |-- userAgent: string (nullable = true)\n",
      " |-- userId: string (nullable = true)\n",
      "\n"
     ]
    }
   ],
   "source": [
    "sparkify_data = 'mini_sparkify_event_data.json' \n",
    "df = spark.read.json(sparkify_data)\n",
    "df.printSchema()"
   ]
  },
  {
   "cell_type": "code",
   "execution_count": 4,
   "metadata": {},
   "outputs": [
    {
     "data": {
      "text/html": [
       "<div>\n",
       "<style scoped>\n",
       "    .dataframe tbody tr th:only-of-type {\n",
       "        vertical-align: middle;\n",
       "    }\n",
       "\n",
       "    .dataframe tbody tr th {\n",
       "        vertical-align: top;\n",
       "    }\n",
       "\n",
       "    .dataframe thead th {\n",
       "        text-align: right;\n",
       "    }\n",
       "</style>\n",
       "<table border=\"1\" class=\"dataframe\">\n",
       "  <thead>\n",
       "    <tr style=\"text-align: right;\">\n",
       "      <th></th>\n",
       "      <th>artist</th>\n",
       "      <th>auth</th>\n",
       "      <th>firstName</th>\n",
       "      <th>gender</th>\n",
       "      <th>itemInSession</th>\n",
       "      <th>lastName</th>\n",
       "      <th>length</th>\n",
       "      <th>level</th>\n",
       "      <th>location</th>\n",
       "      <th>method</th>\n",
       "      <th>page</th>\n",
       "      <th>registration</th>\n",
       "      <th>sessionId</th>\n",
       "      <th>song</th>\n",
       "      <th>status</th>\n",
       "      <th>ts</th>\n",
       "      <th>userAgent</th>\n",
       "      <th>userId</th>\n",
       "    </tr>\n",
       "  </thead>\n",
       "  <tbody>\n",
       "    <tr>\n",
       "      <th>0</th>\n",
       "      <td>Martha Tilston</td>\n",
       "      <td>Logged In</td>\n",
       "      <td>Colin</td>\n",
       "      <td>M</td>\n",
       "      <td>50</td>\n",
       "      <td>Freeman</td>\n",
       "      <td>277.89016</td>\n",
       "      <td>paid</td>\n",
       "      <td>Bakersfield, CA</td>\n",
       "      <td>PUT</td>\n",
       "      <td>NextSong</td>\n",
       "      <td>1.538173e+12</td>\n",
       "      <td>29</td>\n",
       "      <td>Rockpools</td>\n",
       "      <td>200</td>\n",
       "      <td>1538352117000</td>\n",
       "      <td>Mozilla/5.0 (Windows NT 6.1; WOW64; rv:31.0) G...</td>\n",
       "      <td>30</td>\n",
       "    </tr>\n",
       "    <tr>\n",
       "      <th>1</th>\n",
       "      <td>Five Iron Frenzy</td>\n",
       "      <td>Logged In</td>\n",
       "      <td>Micah</td>\n",
       "      <td>M</td>\n",
       "      <td>79</td>\n",
       "      <td>Long</td>\n",
       "      <td>236.09424</td>\n",
       "      <td>free</td>\n",
       "      <td>Boston-Cambridge-Newton, MA-NH</td>\n",
       "      <td>PUT</td>\n",
       "      <td>NextSong</td>\n",
       "      <td>1.538332e+12</td>\n",
       "      <td>8</td>\n",
       "      <td>Canada</td>\n",
       "      <td>200</td>\n",
       "      <td>1538352180000</td>\n",
       "      <td>\"Mozilla/5.0 (Windows NT 6.1; WOW64) AppleWebK...</td>\n",
       "      <td>9</td>\n",
       "    </tr>\n",
       "    <tr>\n",
       "      <th>2</th>\n",
       "      <td>Adam Lambert</td>\n",
       "      <td>Logged In</td>\n",
       "      <td>Colin</td>\n",
       "      <td>M</td>\n",
       "      <td>51</td>\n",
       "      <td>Freeman</td>\n",
       "      <td>282.82730</td>\n",
       "      <td>paid</td>\n",
       "      <td>Bakersfield, CA</td>\n",
       "      <td>PUT</td>\n",
       "      <td>NextSong</td>\n",
       "      <td>1.538173e+12</td>\n",
       "      <td>29</td>\n",
       "      <td>Time For Miracles</td>\n",
       "      <td>200</td>\n",
       "      <td>1538352394000</td>\n",
       "      <td>Mozilla/5.0 (Windows NT 6.1; WOW64; rv:31.0) G...</td>\n",
       "      <td>30</td>\n",
       "    </tr>\n",
       "    <tr>\n",
       "      <th>3</th>\n",
       "      <td>Enigma</td>\n",
       "      <td>Logged In</td>\n",
       "      <td>Micah</td>\n",
       "      <td>M</td>\n",
       "      <td>80</td>\n",
       "      <td>Long</td>\n",
       "      <td>262.71302</td>\n",
       "      <td>free</td>\n",
       "      <td>Boston-Cambridge-Newton, MA-NH</td>\n",
       "      <td>PUT</td>\n",
       "      <td>NextSong</td>\n",
       "      <td>1.538332e+12</td>\n",
       "      <td>8</td>\n",
       "      <td>Knocking On Forbidden Doors</td>\n",
       "      <td>200</td>\n",
       "      <td>1538352416000</td>\n",
       "      <td>\"Mozilla/5.0 (Windows NT 6.1; WOW64) AppleWebK...</td>\n",
       "      <td>9</td>\n",
       "    </tr>\n",
       "    <tr>\n",
       "      <th>4</th>\n",
       "      <td>Daft Punk</td>\n",
       "      <td>Logged In</td>\n",
       "      <td>Colin</td>\n",
       "      <td>M</td>\n",
       "      <td>52</td>\n",
       "      <td>Freeman</td>\n",
       "      <td>223.60771</td>\n",
       "      <td>paid</td>\n",
       "      <td>Bakersfield, CA</td>\n",
       "      <td>PUT</td>\n",
       "      <td>NextSong</td>\n",
       "      <td>1.538173e+12</td>\n",
       "      <td>29</td>\n",
       "      <td>Harder Better Faster Stronger</td>\n",
       "      <td>200</td>\n",
       "      <td>1538352676000</td>\n",
       "      <td>Mozilla/5.0 (Windows NT 6.1; WOW64; rv:31.0) G...</td>\n",
       "      <td>30</td>\n",
       "    </tr>\n",
       "  </tbody>\n",
       "</table>\n",
       "</div>"
      ],
      "text/plain": [
       "             artist       auth firstName gender  itemInSession lastName  \\\n",
       "0    Martha Tilston  Logged In     Colin      M             50  Freeman   \n",
       "1  Five Iron Frenzy  Logged In     Micah      M             79     Long   \n",
       "2      Adam Lambert  Logged In     Colin      M             51  Freeman   \n",
       "3            Enigma  Logged In     Micah      M             80     Long   \n",
       "4         Daft Punk  Logged In     Colin      M             52  Freeman   \n",
       "\n",
       "      length level                        location method      page  \\\n",
       "0  277.89016  paid                 Bakersfield, CA    PUT  NextSong   \n",
       "1  236.09424  free  Boston-Cambridge-Newton, MA-NH    PUT  NextSong   \n",
       "2  282.82730  paid                 Bakersfield, CA    PUT  NextSong   \n",
       "3  262.71302  free  Boston-Cambridge-Newton, MA-NH    PUT  NextSong   \n",
       "4  223.60771  paid                 Bakersfield, CA    PUT  NextSong   \n",
       "\n",
       "   registration  sessionId                           song  status  \\\n",
       "0  1.538173e+12         29                      Rockpools     200   \n",
       "1  1.538332e+12          8                         Canada     200   \n",
       "2  1.538173e+12         29              Time For Miracles     200   \n",
       "3  1.538332e+12          8    Knocking On Forbidden Doors     200   \n",
       "4  1.538173e+12         29  Harder Better Faster Stronger     200   \n",
       "\n",
       "              ts                                          userAgent userId  \n",
       "0  1538352117000  Mozilla/5.0 (Windows NT 6.1; WOW64; rv:31.0) G...     30  \n",
       "1  1538352180000  \"Mozilla/5.0 (Windows NT 6.1; WOW64) AppleWebK...      9  \n",
       "2  1538352394000  Mozilla/5.0 (Windows NT 6.1; WOW64; rv:31.0) G...     30  \n",
       "3  1538352416000  \"Mozilla/5.0 (Windows NT 6.1; WOW64) AppleWebK...      9  \n",
       "4  1538352676000  Mozilla/5.0 (Windows NT 6.1; WOW64; rv:31.0) G...     30  "
      ]
     },
     "execution_count": 4,
     "metadata": {},
     "output_type": "execute_result"
    }
   ],
   "source": [
    "df_pandas=df.toPandas()\n",
    "df_pandas.replace('', np.nan, inplace=True)\n",
    "df_pandas.head()"
   ]
  },
  {
   "cell_type": "code",
   "execution_count": 5,
   "metadata": {},
   "outputs": [
    {
     "name": "stdout",
     "output_type": "stream",
     "text": [
      "<class 'pandas.core.frame.DataFrame'>\n",
      "RangeIndex: 286500 entries, 0 to 286499\n",
      "Data columns (total 18 columns):\n",
      "artist           228108 non-null object\n",
      "auth             286500 non-null object\n",
      "firstName        278154 non-null object\n",
      "gender           278154 non-null object\n",
      "itemInSession    286500 non-null int64\n",
      "lastName         278154 non-null object\n",
      "length           228108 non-null float64\n",
      "level            286500 non-null object\n",
      "location         278154 non-null object\n",
      "method           286500 non-null object\n",
      "page             286500 non-null object\n",
      "registration     278154 non-null float64\n",
      "sessionId        286500 non-null int64\n",
      "song             228108 non-null object\n",
      "status           286500 non-null int64\n",
      "ts               286500 non-null int64\n",
      "userAgent        278154 non-null object\n",
      "userId           278154 non-null object\n",
      "dtypes: float64(2), int64(4), object(12)\n",
      "memory usage: 39.3+ MB\n"
     ]
    }
   ],
   "source": [
    "#check null records\n",
    "df_pandas.info()"
   ]
  },
  {
   "cell_type": "code",
   "execution_count": 6,
   "metadata": {},
   "outputs": [
    {
     "data": {
      "text/html": [
       "<div>\n",
       "<style scoped>\n",
       "    .dataframe tbody tr th:only-of-type {\n",
       "        vertical-align: middle;\n",
       "    }\n",
       "\n",
       "    .dataframe tbody tr th {\n",
       "        vertical-align: top;\n",
       "    }\n",
       "\n",
       "    .dataframe thead th {\n",
       "        text-align: right;\n",
       "    }\n",
       "</style>\n",
       "<table border=\"1\" class=\"dataframe\">\n",
       "  <thead>\n",
       "    <tr style=\"text-align: right;\">\n",
       "      <th></th>\n",
       "      <th>artist</th>\n",
       "      <th>auth</th>\n",
       "      <th>firstName</th>\n",
       "      <th>gender</th>\n",
       "      <th>itemInSession</th>\n",
       "      <th>lastName</th>\n",
       "      <th>length</th>\n",
       "      <th>level</th>\n",
       "      <th>location</th>\n",
       "      <th>method</th>\n",
       "      <th>page</th>\n",
       "      <th>registration</th>\n",
       "      <th>sessionId</th>\n",
       "      <th>song</th>\n",
       "      <th>status</th>\n",
       "      <th>ts</th>\n",
       "      <th>userAgent</th>\n",
       "      <th>userId</th>\n",
       "    </tr>\n",
       "  </thead>\n",
       "  <tbody>\n",
       "    <tr>\n",
       "      <th>57</th>\n",
       "      <td>None</td>\n",
       "      <td>Logged Out</td>\n",
       "      <td>None</td>\n",
       "      <td>None</td>\n",
       "      <td>100</td>\n",
       "      <td>None</td>\n",
       "      <td>NaN</td>\n",
       "      <td>free</td>\n",
       "      <td>None</td>\n",
       "      <td>GET</td>\n",
       "      <td>Home</td>\n",
       "      <td>NaN</td>\n",
       "      <td>8</td>\n",
       "      <td>None</td>\n",
       "      <td>200</td>\n",
       "      <td>1538355745000</td>\n",
       "      <td>None</td>\n",
       "      <td>NaN</td>\n",
       "    </tr>\n",
       "    <tr>\n",
       "      <th>58</th>\n",
       "      <td>None</td>\n",
       "      <td>Logged Out</td>\n",
       "      <td>None</td>\n",
       "      <td>None</td>\n",
       "      <td>101</td>\n",
       "      <td>None</td>\n",
       "      <td>NaN</td>\n",
       "      <td>free</td>\n",
       "      <td>None</td>\n",
       "      <td>GET</td>\n",
       "      <td>Help</td>\n",
       "      <td>NaN</td>\n",
       "      <td>8</td>\n",
       "      <td>None</td>\n",
       "      <td>200</td>\n",
       "      <td>1538355807000</td>\n",
       "      <td>None</td>\n",
       "      <td>NaN</td>\n",
       "    </tr>\n",
       "    <tr>\n",
       "      <th>59</th>\n",
       "      <td>None</td>\n",
       "      <td>Logged Out</td>\n",
       "      <td>None</td>\n",
       "      <td>None</td>\n",
       "      <td>102</td>\n",
       "      <td>None</td>\n",
       "      <td>NaN</td>\n",
       "      <td>free</td>\n",
       "      <td>None</td>\n",
       "      <td>GET</td>\n",
       "      <td>Home</td>\n",
       "      <td>NaN</td>\n",
       "      <td>8</td>\n",
       "      <td>None</td>\n",
       "      <td>200</td>\n",
       "      <td>1538355841000</td>\n",
       "      <td>None</td>\n",
       "      <td>NaN</td>\n",
       "    </tr>\n",
       "    <tr>\n",
       "      <th>60</th>\n",
       "      <td>None</td>\n",
       "      <td>Logged Out</td>\n",
       "      <td>None</td>\n",
       "      <td>None</td>\n",
       "      <td>103</td>\n",
       "      <td>None</td>\n",
       "      <td>NaN</td>\n",
       "      <td>free</td>\n",
       "      <td>None</td>\n",
       "      <td>PUT</td>\n",
       "      <td>Login</td>\n",
       "      <td>NaN</td>\n",
       "      <td>8</td>\n",
       "      <td>None</td>\n",
       "      <td>307</td>\n",
       "      <td>1538355842000</td>\n",
       "      <td>None</td>\n",
       "      <td>NaN</td>\n",
       "    </tr>\n",
       "    <tr>\n",
       "      <th>76</th>\n",
       "      <td>None</td>\n",
       "      <td>Logged Out</td>\n",
       "      <td>None</td>\n",
       "      <td>None</td>\n",
       "      <td>2</td>\n",
       "      <td>None</td>\n",
       "      <td>NaN</td>\n",
       "      <td>free</td>\n",
       "      <td>None</td>\n",
       "      <td>GET</td>\n",
       "      <td>Home</td>\n",
       "      <td>NaN</td>\n",
       "      <td>240</td>\n",
       "      <td>None</td>\n",
       "      <td>200</td>\n",
       "      <td>1538356678000</td>\n",
       "      <td>None</td>\n",
       "      <td>NaN</td>\n",
       "    </tr>\n",
       "  </tbody>\n",
       "</table>\n",
       "</div>"
      ],
      "text/plain": [
       "   artist        auth firstName gender  itemInSession lastName  length level  \\\n",
       "57   None  Logged Out      None   None            100     None     NaN  free   \n",
       "58   None  Logged Out      None   None            101     None     NaN  free   \n",
       "59   None  Logged Out      None   None            102     None     NaN  free   \n",
       "60   None  Logged Out      None   None            103     None     NaN  free   \n",
       "76   None  Logged Out      None   None              2     None     NaN  free   \n",
       "\n",
       "   location method   page  registration  sessionId  song  status  \\\n",
       "57     None    GET   Home           NaN          8  None     200   \n",
       "58     None    GET   Help           NaN          8  None     200   \n",
       "59     None    GET   Home           NaN          8  None     200   \n",
       "60     None    PUT  Login           NaN          8  None     307   \n",
       "76     None    GET   Home           NaN        240  None     200   \n",
       "\n",
       "               ts userAgent userId  \n",
       "57  1538355745000      None    NaN  \n",
       "58  1538355807000      None    NaN  \n",
       "59  1538355841000      None    NaN  \n",
       "60  1538355842000      None    NaN  \n",
       "76  1538356678000      None    NaN  "
      ]
     },
     "execution_count": 6,
     "metadata": {},
     "output_type": "execute_result"
    }
   ],
   "source": [
    "df_null=df_pandas[df_pandas.userId.isnull()]\n",
    "df_null.head()"
   ]
  },
  {
   "cell_type": "code",
   "execution_count": 7,
   "metadata": {},
   "outputs": [
    {
     "data": {
      "text/plain": [
       "array(['free', 'paid'], dtype=object)"
      ]
     },
     "execution_count": 7,
     "metadata": {},
     "output_type": "execute_result"
    }
   ],
   "source": [
    "df_null['level'].unique()"
   ]
  },
  {
   "cell_type": "code",
   "execution_count": 8,
   "metadata": {},
   "outputs": [
    {
     "data": {
      "text/plain": [
       "array(['GET', 'PUT'], dtype=object)"
      ]
     },
     "execution_count": 8,
     "metadata": {},
     "output_type": "execute_result"
    }
   ],
   "source": [
    "df_null['method'].unique()"
   ]
  },
  {
   "cell_type": "code",
   "execution_count": 9,
   "metadata": {},
   "outputs": [
    {
     "data": {
      "text/plain": [
       "array(['Home', 'Help', 'Login', 'About', 'Error', 'Register',\n",
       "       'Submit Registration'], dtype=object)"
      ]
     },
     "execution_count": 9,
     "metadata": {},
     "output_type": "execute_result"
    }
   ],
   "source": [
    "df_null['page'].unique()"
   ]
  },
  {
   "cell_type": "code",
   "execution_count": 10,
   "metadata": {},
   "outputs": [
    {
     "data": {
      "text/plain": [
       "array(['Logged Out', 'Guest'], dtype=object)"
      ]
     },
     "execution_count": 10,
     "metadata": {},
     "output_type": "execute_result"
    }
   ],
   "source": [
    "df_null['auth'].unique()"
   ]
  },
  {
   "cell_type": "code",
   "execution_count": 11,
   "metadata": {},
   "outputs": [
    {
     "data": {
      "text/plain": [
       "array([None], dtype=object)"
      ]
     },
     "execution_count": 11,
     "metadata": {},
     "output_type": "execute_result"
    }
   ],
   "source": [
    "df_null['gender'].unique()"
   ]
  },
  {
   "cell_type": "markdown",
   "metadata": {},
   "source": [
    "After some investigation of the null values, it looks that all the missing useId cases are Guest or where users are logged out. This is also in line with the page values ('Register','Login' etc.) from those page values. So we can probabely safely drop those cases."
   ]
  },
  {
   "cell_type": "code",
   "execution_count": 12,
   "metadata": {},
   "outputs": [],
   "source": [
    "df_notnull = df_pandas[df_pandas.userId.notnull()]"
   ]
  },
  {
   "cell_type": "code",
   "execution_count": 13,
   "metadata": {},
   "outputs": [],
   "source": [
    "#drop missing records with userId in Spark data \n",
    "df=df.dropna(how = \"any\", subset = [\"userId\", \"sessionId\"])"
   ]
  },
  {
   "cell_type": "code",
   "execution_count": 14,
   "metadata": {
    "scrolled": true
   },
   "outputs": [
    {
     "name": "stdout",
     "output_type": "stream",
     "text": [
      "<class 'pandas.core.frame.DataFrame'>\n",
      "Int64Index: 278154 entries, 0 to 286499\n",
      "Data columns (total 18 columns):\n",
      "artist           228108 non-null object\n",
      "auth             278154 non-null object\n",
      "firstName        278154 non-null object\n",
      "gender           278154 non-null object\n",
      "itemInSession    278154 non-null int64\n",
      "lastName         278154 non-null object\n",
      "length           228108 non-null float64\n",
      "level            278154 non-null object\n",
      "location         278154 non-null object\n",
      "method           278154 non-null object\n",
      "page             278154 non-null object\n",
      "registration     278154 non-null float64\n",
      "sessionId        278154 non-null int64\n",
      "song             228108 non-null object\n",
      "status           278154 non-null int64\n",
      "ts               278154 non-null int64\n",
      "userAgent        278154 non-null object\n",
      "userId           278154 non-null object\n",
      "dtypes: float64(2), int64(4), object(12)\n",
      "memory usage: 40.3+ MB\n"
     ]
    }
   ],
   "source": [
    "#double check\n",
    "df_notnull.info()"
   ]
  },
  {
   "cell_type": "code",
   "execution_count": 15,
   "metadata": {},
   "outputs": [
    {
     "data": {
      "text/plain": [
       "array(['M', 'F'], dtype=object)"
      ]
     },
     "execution_count": 15,
     "metadata": {},
     "output_type": "execute_result"
    }
   ],
   "source": [
    "#Explore values for catergorical cols\n",
    "df_notnull['gender'].unique()"
   ]
  },
  {
   "cell_type": "code",
   "execution_count": 16,
   "metadata": {},
   "outputs": [
    {
     "data": {
      "text/plain": [
       "array(['paid', 'free'], dtype=object)"
      ]
     },
     "execution_count": 16,
     "metadata": {},
     "output_type": "execute_result"
    }
   ],
   "source": [
    "df_notnull['level'].unique()"
   ]
  },
  {
   "cell_type": "code",
   "execution_count": 17,
   "metadata": {},
   "outputs": [
    {
     "data": {
      "text/plain": [
       "array(['PUT', 'GET'], dtype=object)"
      ]
     },
     "execution_count": 17,
     "metadata": {},
     "output_type": "execute_result"
    }
   ],
   "source": [
    "df_notnull['method'].unique()"
   ]
  },
  {
   "cell_type": "code",
   "execution_count": 18,
   "metadata": {},
   "outputs": [
    {
     "data": {
      "text/plain": [
       "array([200, 307, 404])"
      ]
     },
     "execution_count": 18,
     "metadata": {},
     "output_type": "execute_result"
    }
   ],
   "source": [
    "df_notnull['status'].unique()"
   ]
  },
  {
   "cell_type": "code",
   "execution_count": 19,
   "metadata": {},
   "outputs": [
    {
     "data": {
      "text/plain": [
       "array(['NextSong', 'Add to Playlist', 'Roll Advert', 'Thumbs Up',\n",
       "       'Downgrade', 'Thumbs Down', 'Home', 'Logout', 'Help', 'Upgrade',\n",
       "       'Add Friend', 'Settings', 'Submit Upgrade', 'About',\n",
       "       'Submit Downgrade', 'Error', 'Save Settings', 'Cancel',\n",
       "       'Cancellation Confirmation'], dtype=object)"
      ]
     },
     "execution_count": 19,
     "metadata": {},
     "output_type": "execute_result"
    }
   ],
   "source": [
    "df_notnull['page'].unique()"
   ]
  },
  {
   "cell_type": "markdown",
   "metadata": {},
   "source": [
    "# Exploratory Data Analysis\n",
    "When you're working with the full dataset, perform EDA by loading a small subset of the data and doing basic manipulations within Spark. In this workspace, you are already provided a small subset of data you can explore.\n",
    "\n",
    "### Define Churn\n",
    "\n",
    "Once you've done some preliminary analysis, create a column `Churn` to use as the label for your model. I suggest using the `Cancellation Confirmation` events to define your churn, which happen for both paid and free users. As a bonus task, you can also look into the `Downgrade` events.\n",
    "\n",
    "### Explore Data\n",
    "Once you've defined churn, perform some exploratory data analysis to observe the behavior for users who stayed vs users who churned. You can start by exploring aggregates on these two groups of users, observing how much of a specific action they experienced per a certain time unit or number of songs played."
   ]
  },
  {
   "cell_type": "code",
   "execution_count": 20,
   "metadata": {},
   "outputs": [
    {
     "data": {
      "text/plain": [
       "225"
      ]
     },
     "execution_count": 20,
     "metadata": {},
     "output_type": "execute_result"
    }
   ],
   "source": [
    "df_notnull['userId'].nunique()"
   ]
  },
  {
   "cell_type": "code",
   "execution_count": 21,
   "metadata": {},
   "outputs": [
    {
     "data": {
      "text/plain": [
       "2312"
      ]
     },
     "execution_count": 21,
     "metadata": {},
     "output_type": "execute_result"
    }
   ],
   "source": [
    "df_notnull['sessionId'].nunique()"
   ]
  },
  {
   "cell_type": "markdown",
   "metadata": {},
   "source": [
    "In this sample, we are looking at 225 users and 2,312 user actions."
   ]
  },
  {
   "cell_type": "code",
   "execution_count": 22,
   "metadata": {},
   "outputs": [],
   "source": [
    "#Define flags for churned users\n",
    "flag_cancelation_event = fs.udf(lambda x: 1 if x == \"Cancellation Confirmation\" else 0, IntegerType())\n",
    "df = df.withColumn(\"churn\", flag_cancelation_event(\"page\"))\n",
    "#Define window bounds per user\n",
    "windowval = Window.partitionBy(\"userId\").rangeBetween(Window.unboundedPreceding, Window.unboundedFollowing)\n",
    "df = df.withColumn(\"churn\", fs.sum(\"churn\").over(windowval))"
   ]
  },
  {
   "cell_type": "code",
   "execution_count": 23,
   "metadata": {},
   "outputs": [
    {
     "data": {
      "text/plain": [
       "[Text(0.5,1,'Count of Users by Gender')]"
      ]
     },
     "execution_count": 23,
     "metadata": {},
     "output_type": "execute_result"
    },
    {
     "data": {
      "image/png": "[encoded data removed]",
      "text/plain": [
       "<matplotlib.figure.Figure at 0x7fba2f66a828>"
      ]
     },
     "metadata": {
      "needs_background": "light"
     },
     "output_type": "display_data"
    }
   ],
   "source": [
    "#plot by churn or not\n",
    "sns.countplot(x = \"gender\", hue = \"churn\", data = df.select('userId','gender','churn').dropDuplicates().toPandas()).set(title = 'Count of Users by Gender')"
   ]
  },
  {
   "cell_type": "code",
   "execution_count": 24,
   "metadata": {},
   "outputs": [
    {
     "data": {
      "text/plain": [
       "[Text(0.5,1,'Count of Users by Service Level')]"
      ]
     },
     "execution_count": 24,
     "metadata": {},
     "output_type": "execute_result"
    },
    {
     "data": {
      "image/png": "[encoded data removed]",
      "text/plain": [
       "<matplotlib.figure.Figure at 0x7fba2d673f98>"
      ]
     },
     "metadata": {
      "needs_background": "light"
     },
     "output_type": "display_data"
    }
   ],
   "source": [
    "sns.countplot(x = \"level\", hue = \"churn\", data = df.select('userId','level','churn').dropDuplicates().toPandas()).set(title = 'Count of Users by Service Level')"
   ]
  },
  {
   "cell_type": "code",
   "execution_count": 25,
   "metadata": {
    "scrolled": true
   },
   "outputs": [
    {
     "data": {
      "text/plain": [
       "[Text(0,0,'NextSong'),\n",
       " Text(0,0,'Thumbs Up'),\n",
       " Text(0,0,'Roll Advert'),\n",
       " Text(0,0,'Home'),\n",
       " Text(0,0,'Logout'),\n",
       " Text(0,0,'Add to Playlist'),\n",
       " Text(0,0,'Help'),\n",
       " Text(0,0,'Add Friend'),\n",
       " Text(0,0,'Thumbs Down'),\n",
       " Text(0,0,'Upgrade'),\n",
       " Text(0,0,'About'),\n",
       " Text(0,0,'Settings'),\n",
       " Text(0,0,'Submit Upgrade'),\n",
       " Text(0,0,'Downgrade'),\n",
       " Text(0,0,'Cancel'),\n",
       " Text(0,0,'Cancellation Confirmation'),\n",
       " Text(0,0,'Error'),\n",
       " Text(0,0,'Save Settings'),\n",
       " Text(0,0,'Submit Downgrade'),\n",
       " Text(0,0,'Login'),\n",
       " Text(0,0,'Register'),\n",
       " Text(0,0,'Submit Registration')]"
      ]
     },
     "execution_count": 25,
     "metadata": {},
     "output_type": "execute_result"
    },
    {
     "data": {
      "image/png": "[encoded data removed]",
      "text/plain": [
       "<matplotlib.figure.Figure at 0x7fba347ee8d0>"
      ]
     },
     "metadata": {
      "needs_background": "light"
     },
     "output_type": "display_data"
    }
   ],
   "source": [
    "chart=sns.countplot(x = \"page\", hue='churn', data = df.select('userId','page','churn').dropDuplicates().toPandas())\n",
    "chart.set(title = 'Count of Users by Page')\n",
    "chart.set_xticklabels(chart.get_xticklabels(), rotation=90)"
   ]
  },
  {
   "cell_type": "markdown",
   "metadata": {},
   "source": [
    "# Feature Engineering\n",
    "Once you've familiarized yourself with the data, build out the features you find promising to train your model on. To work with the full dataset, you can follow the following steps.\n",
    "- Write a script to extract the necessary features from the smaller subset of data\n",
    "- Ensure that your script is scalable, using the best practices discussed in Lesson 3\n",
    "- Try your script on the full data set, debugging your script if necessary\n",
    "\n",
    "If you are working in the classroom workspace, you can just extract features based on the small subset of data contained here. Be sure to transfer over this work to the larger dataset when you work on your Spark cluster."
   ]
  },
  {
   "cell_type": "code",
   "execution_count": 26,
   "metadata": {},
   "outputs": [],
   "source": [
    "#starting position\n",
    "df_base=df.select('userId','churn','gender').dropDuplicates()"
   ]
  },
  {
   "cell_type": "code",
   "execution_count": 28,
   "metadata": {},
   "outputs": [],
   "source": [
    "# add cleaner verion of time \n",
    "get_hour = fs.udf(lambda x: datetime.datetime.fromtimestamp(x / 1000.0).hour)\n",
    "get_day = fs.udf(lambda x: datetime.datetime.fromtimestamp(x / 1000.0).day)\n",
    "get_month = fs.udf(lambda x: datetime.datetime.fromtimestamp(x / 1000.0).month)\n",
    "get_weekday = fs.udf(lambda x: datetime.datetime.fromtimestamp(x / 1000.0).strftime('%w'))\n",
    "\n",
    "funcs = {'hour':get_hour, 'day':get_day, 'month':get_month, 'week_day':get_weekday}\n",
    "for label, func in funcs.items():\n",
    "    df = df.withColumn(label, func(df.ts))"
   ]
  },
  {
   "cell_type": "code",
   "execution_count": 38,
   "metadata": {},
   "outputs": [
    {
     "data": {
      "text/plain": [
       "Row(artist='Sleeping With Sirens', auth='Logged In', firstName='Darianna', gender='F', itemInSession=0, lastName='Carpenter', length=202.97098, level='free', location='Bridgeport-Stamford-Norwalk, CT', method='PUT', page='NextSong', registration=1538016340000, sessionId=31, song='Captain Tyin Knots VS Mr Walkway (No Way)', status=200, ts=1539003534000, userAgent='\"Mozilla/5.0 (iPhone; CPU iPhone OS 7_1_2 like Mac OS X) AppleWebKit/537.51.2 (KHTML, like Gecko) Version/7.0 Mobile/11D257 Safari/9537.53\"', userId='100010', churn=0, hour='12', day='8', month='10', week_day='1')"
      ]
     },
     "execution_count": 38,
     "metadata": {},
     "output_type": "execute_result"
    }
   ],
   "source": [
    "df.head()"
   ]
  },
  {
   "cell_type": "code",
   "execution_count": 29,
   "metadata": {},
   "outputs": [],
   "source": [
    "#Creat dummy variables\n",
    "\n",
    "#Gender\n",
    "gender_Male = fs.udf(lambda x: 1 if x == \"M\" else 0, IntegerType())\n",
    "gender_Female = fs.udf(lambda x: 1 if x == \"F\" else 0, IntegerType())\n",
    "df_base =df_base.withColumn(\"gender_Male\", gender_Male(\"gender\"))\n",
    "df_base =df_base.withColumn(\"gender_Female\", gender_Female(\"gender\"))\n",
    "df_base =df_base.drop('gender')"
   ]
  },
  {
   "cell_type": "code",
   "execution_count": 30,
   "metadata": {},
   "outputs": [
    {
     "name": "stdout",
     "output_type": "stream",
     "text": [
      "+------+-----+-----------+\n",
      "|userId|level|level_count|\n",
      "+------+-----+-----------+\n",
      "|100010| free|          1|\n",
      "|200002| free|          2|\n",
      "|200002| paid|          2|\n",
      "|   125| free|          1|\n",
      "|   124| paid|          1|\n",
      "|    51| paid|          1|\n",
      "|     7| free|          1|\n",
      "|    15| paid|          1|\n",
      "|    54| free|          2|\n",
      "|    54| paid|          2|\n",
      "|   155| free|          2|\n",
      "|   155| paid|          2|\n",
      "|100014| paid|          1|\n",
      "|   132| free|          2|\n",
      "|   132| paid|          2|\n",
      "|   154| free|          1|\n",
      "|   101| free|          2|\n",
      "|   101| paid|          2|\n",
      "|    11| free|          2|\n",
      "|    11| paid|          2|\n",
      "+------+-----+-----------+\n",
      "only showing top 20 rows\n",
      "\n"
     ]
    }
   ],
   "source": [
    "#Service level\n",
    "df_service=df.select('userId', 'level').dropDuplicates()\n",
    "df_service=df_service.withColumn('level_count', fs.count('userId').over(windowval))\n",
    "df_service.show()"
   ]
  },
  {
   "cell_type": "code",
   "execution_count": 31,
   "metadata": {},
   "outputs": [],
   "source": [
    "free_flag=fs.udf(lambda x,y: 1 if x == \"free\" and y==1 else 0, IntegerType())\n",
    "paid_flag=fs.udf(lambda x,y: 1 if x == \"paid\" and y==1 else 0, IntegerType())\n",
    "free_paid_flag=fs.udf(lambda x: 1 if x==2 else 0, IntegerType())\n",
    "\n",
    "df_service = df_service.withColumn('free_flag', free_flag('level','level_count'))\n",
    "df_service = df_service.withColumn('paid_flag', paid_flag('level','level_count'))\n",
    "df_service = df_service.withColumn('free_paid_flag', free_paid_flag('level_count'))\n",
    "df_service.drop('level','level_count').collect()\n",
    "df_service = df_service.select('userId','free_flag','paid_flag','free_paid_flag').dropDuplicates()"
   ]
  },
  {
   "cell_type": "code",
   "execution_count": 32,
   "metadata": {},
   "outputs": [
    {
     "name": "stdout",
     "output_type": "stream",
     "text": [
      "+------+---------+---------+--------------+\n",
      "|userId|free_flag|paid_flag|free_paid_flag|\n",
      "+------+---------+---------+--------------+\n",
      "|   114|        0|        0|             1|\n",
      "|     4|        0|        0|             1|\n",
      "|    95|        0|        0|             1|\n",
      "|300021|        0|        0|             1|\n",
      "|100002|        0|        1|             0|\n",
      "|     3|        0|        1|             0|\n",
      "|      |        0|        0|             1|\n",
      "|    37|        0|        0|             1|\n",
      "|300008|        0|        1|             0|\n",
      "|300003|        1|        0|             0|\n",
      "|    73|        0|        0|             1|\n",
      "|    80|        1|        0|             0|\n",
      "|300013|        0|        1|             0|\n",
      "|    84|        1|        0|             0|\n",
      "|    93|        0|        0|             1|\n",
      "|   133|        1|        0|             0|\n",
      "|    43|        1|        0|             0|\n",
      "|    40|        0|        0|             1|\n",
      "|    44|        0|        0|             1|\n",
      "|100012|        0|        0|             1|\n",
      "+------+---------+---------+--------------+\n",
      "only showing top 20 rows\n",
      "\n"
     ]
    }
   ],
   "source": [
    "df_service.show()"
   ]
  },
  {
   "cell_type": "code",
   "execution_count": 33,
   "metadata": {},
   "outputs": [
    {
     "name": "stdout",
     "output_type": "stream",
     "text": [
      "+------+--------------------+\n",
      "|userId|avg_songs_persession|\n",
      "+------+--------------------+\n",
      "|100010|  39.285714285714285|\n",
      "|200002|                64.5|\n",
      "|   125|                 8.0|\n",
      "|    51|               211.1|\n",
      "|   124|  145.67857142857142|\n",
      "+------+--------------------+\n",
      "only showing top 5 rows\n",
      "\n"
     ]
    }
   ],
   "source": [
    "#1.Average Number of songs per session for each user\n",
    "df_Song_perSession = df.filter(df.page == 'NextSong').groupBy('userId', 'sessionId').count()\n",
    "df_Song_perSession = df_Song_perSession.groupBy('userId').agg(fs.avg('count').alias('avg_songs_persession'))\n",
    "df_Song_perSession = df_Song_perSession.na.fill(0)\n",
    "df_Song_perSession.show(5)"
   ]
  },
  {
   "cell_type": "code",
   "execution_count": 34,
   "metadata": {},
   "outputs": [
    {
     "name": "stdout",
     "output_type": "stream",
     "text": [
      "+------+-----------+\n",
      "|userId|num_session|\n",
      "+------+-----------+\n",
      "|100010|          7|\n",
      "|200002|          6|\n",
      "|   125|          1|\n",
      "|    51|         10|\n",
      "|   124|         29|\n",
      "+------+-----------+\n",
      "only showing top 5 rows\n",
      "\n"
     ]
    }
   ],
   "source": [
    "#2.Number of sessions by User\n",
    "df_session_count = df.select(\"userId\", \"sessionId\").dropDuplicates().groupby(\"userId\").count()\n",
    "df_session_count = df_session_count.withColumnRenamed(\"count\", \"num_session\")\n",
    "df_session_count.show(5)"
   ]
  },
  {
   "cell_type": "code",
   "execution_count": 39,
   "metadata": {},
   "outputs": [],
   "source": [
    "#3.Avg numbr of days logged in per month\n",
    "df_ts = df.filter(df.auth=='Logged In').select('userId', 'ts', 'day','month').dropDuplicates()\n",
    "\n",
    "df_ts_count=df_ts.select('userId','day','month').dropDuplicates()\n",
    "df_ts_count=df_ts_count.groupby('userId','month').count()\n",
    "df_ts_count=df_ts_count.groupBy('userId').agg(fs.avg('count').alias('avg_days_login_permonth'))"
   ]
  },
  {
   "cell_type": "code",
   "execution_count": 40,
   "metadata": {},
   "outputs": [
    {
     "name": "stdout",
     "output_type": "stream",
     "text": [
      "+------+-----------------------+\n",
      "|userId|avg_days_login_permonth|\n",
      "+------+-----------------------+\n",
      "|200002|                    3.5|\n",
      "|100010|                    3.5|\n",
      "|   125|                    1.0|\n",
      "|    51|                   13.0|\n",
      "|     7|                    4.0|\n",
      "+------+-----------------------+\n",
      "only showing top 5 rows\n",
      "\n"
     ]
    }
   ],
   "source": [
    "df_ts_count.show(5)"
   ]
  },
  {
   "cell_type": "code",
   "execution_count": 41,
   "metadata": {},
   "outputs": [],
   "source": [
    "#4. frequency of use of page actions per month\n",
    "df_page=df.select('userId','page','month')\n",
    "\n",
    "df_thumbsdown=df_page.filter(df.page=='Thumbs Down').groupby('userId','month').count()\n",
    "df_thumbsdown=df_thumbsdown.groupBy('userId').agg(fs.avg('count').alias('avg_thumbsdown_permonth'))"
   ]
  },
  {
   "cell_type": "code",
   "execution_count": 42,
   "metadata": {},
   "outputs": [
    {
     "name": "stdout",
     "output_type": "stream",
     "text": [
      "+------+-----------------------+\n",
      "|userId|avg_thumbsdown_permonth|\n",
      "+------+-----------------------+\n",
      "|200002|                    6.0|\n",
      "|100010|                    2.5|\n",
      "|    51|                   21.0|\n",
      "|   124|                   20.5|\n",
      "|     7|                    1.0|\n",
      "+------+-----------------------+\n",
      "only showing top 5 rows\n",
      "\n"
     ]
    }
   ],
   "source": [
    "df_thumbsdown.show(5)"
   ]
  },
  {
   "cell_type": "code",
   "execution_count": 43,
   "metadata": {},
   "outputs": [],
   "source": [
    "df_thumbsup=df_page.filter(df.page=='Thumbs Up').groupby('userId','month').count()\n",
    "df_thumbsup=df_thumbsup.groupBy('userId').agg(fs.avg('count').alias('avg_thumbsup_permonth'))"
   ]
  },
  {
   "cell_type": "code",
   "execution_count": 44,
   "metadata": {},
   "outputs": [],
   "source": [
    "df_playlist=df_page.filter(df.page=='Add to Playlist').groupby('userId','month').count()\n",
    "df_playlist=df_playlist.groupBy('userId').agg(fs.avg('count').alias('avg_playlist_permonth'))\n",
    "\n",
    "df_friend=df_page.filter(df.page=='Add Friend').groupby('userId','month').count()\n",
    "df_friend=df_friend.groupBy('userId').agg(fs.avg('count').alias('avg_addfriend_permonth'))\n",
    "\n",
    "df_rollad=df_page.filter(df.page=='Roll Advert').groupby('userId','month').count()\n",
    "df_rollad=df_rollad.groupBy('userId').agg(fs.avg('count').alias('avg_rollad_permonth'))\n",
    "\n",
    "df_help=df_page.filter(df.page=='Help').groupby('userId','month').count()\n",
    "df_help=df_help.groupBy('userId').agg(fs.avg('count').alias('avg_help_permonth'))\n",
    "\n",
    "df_error=df_page.filter(df.page=='Error').groupby('userId','month').count()\n",
    "df_error=df_error.groupBy('userId').agg(fs.avg('count').alias('avg_error_permonth'))"
   ]
  },
  {
   "cell_type": "code",
   "execution_count": 45,
   "metadata": {},
   "outputs": [],
   "source": [
    "#5 Days since registration\n",
    "user_max_ts = df.groupby(\"userId\").max(\"ts\").sort(\"userId\")\n",
    "user_reg_ts = df.select(\"userId\", \"registration\").dropDuplicates().sort(\"userId\")\n",
    "user_reg_days = user_reg_ts.join(user_max_ts, user_reg_ts.userId == user_max_ts.userId).select(user_reg_ts[\"userId\"], ((user_max_ts[\"max(ts)\"]-user_reg_ts[\"registration\"])/(1000*60*60*24)).alias(\"regDay\"))"
   ]
  },
  {
   "cell_type": "code",
   "execution_count": 46,
   "metadata": {},
   "outputs": [
    {
     "name": "stdout",
     "output_type": "stream",
     "text": [
      "+------+------------------+\n",
      "|userId|            regDay|\n",
      "+------+------------------+\n",
      "|100010| 55.64365740740741|\n",
      "|200002| 70.07462962962963|\n",
      "|   125| 71.31688657407408|\n",
      "|   124|131.55591435185184|\n",
      "|    51|19.455844907407407|\n",
      "+------+------------------+\n",
      "only showing top 5 rows\n",
      "\n"
     ]
    }
   ],
   "source": [
    "user_reg_days.show(5)"
   ]
  },
  {
   "cell_type": "code",
   "execution_count": 47,
   "metadata": {},
   "outputs": [],
   "source": [
    "#6 Session Duration\n",
    "session_end = df.groupBy('userId', 'sessionId').max('ts').withColumnRenamed('max(ts)', 'end')\n",
    "session_start = df.groupBy('userId', 'sessionId').min('ts').withColumnRenamed('min(ts)', 'start')\n",
    "df_session= session_start.join(session_end,['userId', 'sessionId'])\n",
    "df_session = df_session.select('userId', 'sessionId', ((df_session.end-df_session.start/(1000*60*60)).alias('session_hours')))\n",
    "df_session =df_session.groupby('userId').agg(fs.avg('session_hours').alias('avg_session_hour'))"
   ]
  },
  {
   "cell_type": "code",
   "execution_count": 48,
   "metadata": {},
   "outputs": [
    {
     "name": "stdout",
     "output_type": "stream",
     "text": [
      "+------+--------------------+\n",
      "|userId|    avg_session_hour|\n",
      "+------+--------------------+\n",
      "|100010|1.540624836479683...|\n",
      "|200002|1.539845829102702E12|\n",
      "|   125|1.539318490411904...|\n",
      "|    51|1.539226934851383E12|\n",
      "|   124|1.541082741310301...|\n",
      "+------+--------------------+\n",
      "only showing top 5 rows\n",
      "\n"
     ]
    }
   ],
   "source": [
    "df_session.show(5)"
   ]
  },
  {
   "cell_type": "markdown",
   "metadata": {},
   "source": [
    "Collect All"
   ]
  },
  {
   "cell_type": "code",
   "execution_count": 49,
   "metadata": {},
   "outputs": [],
   "source": [
    "# put all the features dataframe into a list\n",
    "features_list = []\n",
    "features_list.append(df_service)\n",
    "features_list.append(df_Song_perSession)\n",
    "features_list.append(df_session_count)\n",
    "features_list.append(df_ts_count)\n",
    "features_list.append(df_thumbsdown)\n",
    "features_list.append(df_thumbsup)\n",
    "features_list.append(df_playlist)\n",
    "features_list.append(df_friend)\n",
    "features_list.append(df_rollad)\n",
    "features_list.append(df_help)\n",
    "features_list.append(df_error)\n",
    "features_list.append(user_reg_days)\n",
    "features_list.append(df_session)"
   ]
  },
  {
   "cell_type": "code",
   "execution_count": 50,
   "metadata": {},
   "outputs": [],
   "source": [
    "def features_merge(df1, df2):\n",
    "    \"\"\"\n",
    "    This function is used to merge the feature using left join\n",
    "    input: two data frame to be merged\n",
    "    output: merged dataframe\n",
    "    \"\"\"\n",
    "    df2 = df2.withColumnRenamed(\"userId\", \"userIdTemp\")\n",
    "    df = df1.join(df2, df1.userId == df2.userIdTemp, \"left\").drop(\"userIdTemp\")\n",
    "    return df"
   ]
  },
  {
   "cell_type": "code",
   "execution_count": 51,
   "metadata": {},
   "outputs": [],
   "source": [
    "df_final=df_base\n",
    "\n",
    "for feature in features_list:\n",
    "    df_final = features_merge(df_final, feature)"
   ]
  },
  {
   "cell_type": "code",
   "execution_count": 52,
   "metadata": {},
   "outputs": [
    {
     "name": "stdout",
     "output_type": "stream",
     "text": [
      "+------+-----+-----------+-------------+---------+---------+--------------+--------------------+-----------+-----------------------+-----------------------+---------------------+---------------------+----------------------+-------------------+-----------------+------------------+------------------+--------------------+\n",
      "|userId|churn|gender_Male|gender_Female|free_flag|paid_flag|free_paid_flag|avg_songs_persession|num_session|avg_days_login_permonth|avg_thumbsdown_permonth|avg_thumbsup_permonth|avg_playlist_permonth|avg_addfriend_permonth|avg_rollad_permonth|avg_help_permonth|avg_error_permonth|            regDay|    avg_session_hour|\n",
      "+------+-----+-----------+-------------+---------+---------+--------------+--------------------+-----------+-----------------------+-----------------------+---------------------+---------------------+----------------------+-------------------+-----------------+------------------+------------------+--------------------+\n",
      "|100010|    0|          0|            1|        1|        0|             0|  39.285714285714285|          7|                    3.5|                    2.5|                  8.5|                  3.5|                   2.0|               26.0|              1.0|              null| 55.64365740740741|1.540624836479683...|\n",
      "|200002|    0|          1|            0|        0|        0|             1|                64.5|          6|                    3.5|                    6.0|                 10.5|                  4.0|                   4.0|                7.0|              1.0|              null| 70.07462962962963|1.539845829102702E12|\n",
      "|   125|    1|          1|            0|        1|        0|             0|                 8.0|          1|                    1.0|                   null|                 null|                 null|                  null|                1.0|             null|              null| 71.31688657407408|1.539318490411904...|\n",
      "|   124|    0|          0|            1|        0|        1|             0|  145.67857142857142|         29|                   16.5|                   20.5|                 85.5|                 59.0|                  37.0|                4.0|             11.5|               3.0|131.55591435185184|1.541082741310301...|\n",
      "|    51|    1|          1|            0|        0|        1|             0|               211.1|         10|                   13.0|                   21.0|                100.0|                 52.0|                  28.0|               null|             12.0|               1.0|19.455844907407407|1.539226934851383E12|\n",
      "+------+-----+-----------+-------------+---------+---------+--------------+--------------------+-----------+-----------------------+-----------------------+---------------------+---------------------+----------------------+-------------------+-----------------+------------------+------------------+--------------------+\n",
      "only showing top 5 rows\n",
      "\n"
     ]
    }
   ],
   "source": [
    "df_final.show(5)"
   ]
  },
  {
   "cell_type": "code",
   "execution_count": 56,
   "metadata": {},
   "outputs": [],
   "source": [
    "# Saving as SPARK format\n",
    "df_final.write.save('saved_final_user_dataset.CSV', format='csv', header=True)"
   ]
  },
  {
   "cell_type": "markdown",
   "metadata": {},
   "source": [
    "# Modeling\n",
    "Split the full dataset into train, test, and validation sets. Test out several of the machine learning methods you learned. Evaluate the accuracy of the various models, tuning parameters as necessary. Determine your winning model based on test accuracy and report results on the validation set. Since the churned users are a fairly small subset, I suggest using F1 score as the metric to optimize."
   ]
  },
  {
   "cell_type": "code",
   "execution_count": 80,
   "metadata": {},
   "outputs": [],
   "source": [
    "#loading data \n",
    "df_final = spark.read.csv('saved_final_user_dataset.CSV', header = True)"
   ]
  },
  {
   "cell_type": "code",
   "execution_count": 81,
   "metadata": {},
   "outputs": [
    {
     "name": "stdout",
     "output_type": "stream",
     "text": [
      "root\n",
      " |-- userId: string (nullable = true)\n",
      " |-- churn: string (nullable = true)\n",
      " |-- gender_Male: string (nullable = true)\n",
      " |-- gender_Female: string (nullable = true)\n",
      " |-- free_flag: string (nullable = true)\n",
      " |-- paid_flag: string (nullable = true)\n",
      " |-- free_paid_flag: string (nullable = true)\n",
      " |-- avg_songs_persession: string (nullable = true)\n",
      " |-- num_session: string (nullable = true)\n",
      " |-- avg_days_login_permonth: string (nullable = true)\n",
      " |-- avg_thumbsdown_permonth: string (nullable = true)\n",
      " |-- avg_thumbsup_permonth: string (nullable = true)\n",
      " |-- avg_playlist_permonth: string (nullable = true)\n",
      " |-- avg_addfriend_permonth: string (nullable = true)\n",
      " |-- avg_rollad_permonth: string (nullable = true)\n",
      " |-- avg_help_permonth: string (nullable = true)\n",
      " |-- avg_error_permonth: string (nullable = true)\n",
      " |-- regDay: string (nullable = true)\n",
      " |-- avg_session_hour: string (nullable = true)\n",
      "\n"
     ]
    }
   ],
   "source": [
    "df_final.printSchema()"
   ]
  },
  {
   "cell_type": "code",
   "execution_count": 82,
   "metadata": {},
   "outputs": [],
   "source": [
    "#Convert String to Numeric\n",
    "num_features_list = df_final.columns[1:]\n",
    "for f in num_features_list:\n",
    "    f_name = f + \"_Num\"\n",
    "    df_final = df_final.withColumn(f_name, df_final[f].cast(\"float\"))\n",
    "    df_final = df_final.drop(f)"
   ]
  },
  {
   "cell_type": "code",
   "execution_count": 88,
   "metadata": {},
   "outputs": [],
   "source": [
    "df_final = df_final.na.fill(0)"
   ]
  },
  {
   "cell_type": "code",
   "execution_count": 160,
   "metadata": {},
   "outputs": [
    {
     "data": {
      "text/plain": [
       "['gender_Male_Num',\n",
       " 'gender_Female_Num',\n",
       " 'free_flag_Num',\n",
       " 'paid_flag_Num',\n",
       " 'free_paid_flag_Num',\n",
       " 'avg_songs_persession_Num',\n",
       " 'num_session_Num',\n",
       " 'avg_days_login_permonth_Num',\n",
       " 'avg_thumbsdown_permonth_Num',\n",
       " 'avg_thumbsup_permonth_Num',\n",
       " 'avg_playlist_permonth_Num',\n",
       " 'avg_addfriend_permonth_Num',\n",
       " 'avg_rollad_permonth_Num',\n",
       " 'avg_help_permonth_Num',\n",
       " 'avg_error_permonth_Num',\n",
       " 'regDay_Num',\n",
       " 'avg_session_hour_Num']"
      ]
     },
     "execution_count": 160,
     "metadata": {},
     "output_type": "execute_result"
    }
   ],
   "source": [
    "features_labels = df_final.columns[2:]\n",
    "features_labels"
   ]
  },
  {
   "cell_type": "code",
   "execution_count": 94,
   "metadata": {},
   "outputs": [],
   "source": [
    "# Define the vector assembler for all input columns\n",
    "features_vector = VectorAssembler(inputCols=df_final.columns[2:], outputCol='features')\n",
    "# Apply the vectorization on the dataset\n",
    "input_data = features_vector.transform(df_final)"
   ]
  },
  {
   "cell_type": "code",
   "execution_count": 95,
   "metadata": {},
   "outputs": [
    {
     "name": "stdout",
     "output_type": "stream",
     "text": [
      "root\n",
      " |-- userId: string (nullable = true)\n",
      " |-- churn_Num: float (nullable = false)\n",
      " |-- gender_Male_Num: float (nullable = false)\n",
      " |-- gender_Female_Num: float (nullable = false)\n",
      " |-- free_flag_Num: float (nullable = false)\n",
      " |-- paid_flag_Num: float (nullable = false)\n",
      " |-- free_paid_flag_Num: float (nullable = false)\n",
      " |-- avg_songs_persession_Num: float (nullable = false)\n",
      " |-- num_session_Num: float (nullable = false)\n",
      " |-- avg_days_login_permonth_Num: float (nullable = false)\n",
      " |-- avg_thumbsdown_permonth_Num: float (nullable = false)\n",
      " |-- avg_thumbsup_permonth_Num: float (nullable = false)\n",
      " |-- avg_playlist_permonth_Num: float (nullable = false)\n",
      " |-- avg_addfriend_permonth_Num: float (nullable = false)\n",
      " |-- avg_rollad_permonth_Num: float (nullable = false)\n",
      " |-- avg_help_permonth_Num: float (nullable = false)\n",
      " |-- avg_error_permonth_Num: float (nullable = false)\n",
      " |-- regDay_Num: float (nullable = false)\n",
      " |-- avg_session_hour_Num: float (nullable = false)\n",
      " |-- features: vector (nullable = true)\n",
      "\n"
     ]
    }
   ],
   "source": [
    "input_features.printSchema()"
   ]
  },
  {
   "cell_type": "code",
   "execution_count": 97,
   "metadata": {},
   "outputs": [],
   "source": [
    "#Transform features\n",
    "features_scaler = StandardScaler(withMean=True, withStd=True, inputCol='features', outputCol='scaled_features')\n",
    "features_scaler_fit = features_scaler.fit(input_data)\n",
    "scaled_inputs = features_scaler_fit.transform(input_data)"
   ]
  },
  {
   "cell_type": "code",
   "execution_count": 99,
   "metadata": {},
   "outputs": [],
   "source": [
    "# Select the output and input features\n",
    "ml_data = scaled_inputs.select(scaled_inputs.churn_Num.alias('label'), scaled_inputs.scaled_features.alias('features'))"
   ]
  },
  {
   "cell_type": "code",
   "execution_count": 138,
   "metadata": {},
   "outputs": [],
   "source": [
    "# Defining training and testing samples\n",
    "train, test = ml_data.randomSplit([0.8, 0.2], seed=78)\n",
    "#train.show(3), test.show(3)"
   ]
  },
  {
   "cell_type": "code",
   "execution_count": 109,
   "metadata": {},
   "outputs": [],
   "source": [
    "#Evaluator\n",
    "evaluator_f1=MulticlassClassificationEvaluator(metricName=\"f1\")"
   ]
  },
  {
   "cell_type": "markdown",
   "metadata": {},
   "source": [
    "#### Logistic Regression "
   ]
  },
  {
   "cell_type": "code",
   "execution_count": 102,
   "metadata": {},
   "outputs": [],
   "source": [
    "lr =  LogisticRegression()\n",
    "paramGrid = ParamGridBuilder() \\\n",
    "    .addGrid(lr.elasticNetParam,[0.0, 0.1, 0.5, 1.0]) \\\n",
    "    .addGrid(lr.regParam,[0.0, 0.05, 0.1]) \\\n",
    "    .build()\n",
    "\n",
    "crossval = CrossValidator(estimator=lr,\n",
    "                          estimatorParamMaps=paramGrid,\n",
    "                          evaluator=MulticlassClassificationEvaluator(),\n",
    "                          numFolds=3)\n",
    "cvModel_lr = crossval.fit(train)"
   ]
  },
  {
   "cell_type": "code",
   "execution_count": 116,
   "metadata": {},
   "outputs": [],
   "source": [
    "result_lr=cvModel_lr.transform(train)"
   ]
  },
  {
   "cell_type": "code",
   "execution_count": 118,
   "metadata": {},
   "outputs": [
    {
     "name": "stdout",
     "output_type": "stream",
     "text": [
      "Accuracy for Logistic Regression Model is:  0.9340659340659341\n",
      "F1 for Logistic Regression Model is:  0.9315114709851551\n"
     ]
    }
   ],
   "source": [
    "print(\"Accuracy for Logistic Regression Model is: \", result_lr.filter(result_lr.label == result_lr.prediction).count()/ result_lr.count())\n",
    "print(\"F1 for Logistic Regression Model is: \", evaluator_f1.evaluate(result_lr))"
   ]
  },
  {
   "cell_type": "markdown",
   "metadata": {},
   "source": [
    "#### Decision Tree"
   ]
  },
  {
   "cell_type": "code",
   "execution_count": 140,
   "metadata": {},
   "outputs": [],
   "source": [
    "dtc = DecisionTreeClassifier()\n",
    "paramGrid = ParamGridBuilder() \\\n",
    "    .addGrid(dts.impurity,['entropy', 'gini']) \\\n",
    "    .addGrid(dts.maxDepth,[2, 3, 4, 5, 6, 7, 8]) \\\n",
    "    .build()\n",
    "crossval_dtc = CrossValidator(estimator=dtc,\n",
    "                          estimatorParamMaps=paramGrid,\n",
    "                          evaluator=MulticlassClassificationEvaluator(),\n",
    "                          numFolds=3)\n",
    "cvModel_dtc = crossval_dts.fit(train)"
   ]
  },
  {
   "cell_type": "code",
   "execution_count": 141,
   "metadata": {},
   "outputs": [],
   "source": [
    "result_dtc=cvModel_dtc.transform(train)"
   ]
  },
  {
   "cell_type": "code",
   "execution_count": 142,
   "metadata": {},
   "outputs": [
    {
     "name": "stdout",
     "output_type": "stream",
     "text": [
      "Accuracy for Decision Tree Model is:  0.989010989010989\n",
      "F1 for Decision Tree Model is:  0.9890992393920285\n"
     ]
    }
   ],
   "source": [
    "print(\"Accuracy for Decision Tree Model is: \", result_dtc.filter(result_dtc.label == result_dtc.prediction).count()/ result_dtc.count())\n",
    "print(\"F1 for Decision Tree Model is: \", evaluator_f1.evaluate(result_dtc))"
   ]
  },
  {
   "cell_type": "markdown",
   "metadata": {},
   "source": [
    "#### GBTClassifier"
   ]
  },
  {
   "cell_type": "code",
   "execution_count": 147,
   "metadata": {},
   "outputs": [],
   "source": [
    "gbt=GBTClassifier()\n",
    "\n",
    "paramGrid = ParamGridBuilder() \\\n",
    "    .addGrid(gbt.maxDepth,[3, 10]) \\\n",
    "    .addGrid(gbt.maxBins ,[10, 5]) \\\n",
    "    .addGrid(gbt.maxIter ,[20, 5]) \\\n",
    "    .build()\n",
    "\n",
    "crossval_gbt = CrossValidator(estimator=gbt, \n",
    "                     estimatorParamMaps=paramGrid,\n",
    "                     evaluator=MulticlassClassificationEvaluator(),\n",
    "                     numFolds=3)\n",
    "\n",
    "cvModel_gbt=crossval_gbt.fit(train)"
   ]
  },
  {
   "cell_type": "code",
   "execution_count": 148,
   "metadata": {},
   "outputs": [],
   "source": [
    "result_gbt=cvModel_gbt.transform(train)"
   ]
  },
  {
   "cell_type": "code",
   "execution_count": 150,
   "metadata": {},
   "outputs": [
    {
     "name": "stdout",
     "output_type": "stream",
     "text": [
      "Accuracy for GBT Model is:  0.9560439560439561\n",
      "F1 for GBT Tree Model is:  0.9567244349853046\n"
     ]
    }
   ],
   "source": [
    "print(\"Accuracy for GBT Model is: \", result_gbt.filter(result_gbt.label == result_gbt.prediction).count()/ result_gbt.count())\n",
    "print(\"F1 for GBT Tree Model is: \", evaluator_f1.evaluate(result_gbt))"
   ]
  },
  {
   "cell_type": "markdown",
   "metadata": {},
   "source": [
    "### Validation on the test set"
   ]
  },
  {
   "cell_type": "code",
   "execution_count": 151,
   "metadata": {
    "scrolled": true
   },
   "outputs": [
    {
     "name": "stdout",
     "output_type": "stream",
     "text": [
      "Accuracy for Decision Tree Model is:  0.7272727272727273\n",
      "F1 for Decision Tree Model is:  0.67988767988768\n"
     ]
    }
   ],
   "source": [
    "#Logistic Regression \n",
    "result_test_lr=cvModel_lr.transform(test)\n",
    "print(\"Accuracy for Decision Tree Model is: \", result_test_lr.filter(result_test_lr.label == result_test_lr.prediction).count()/ result_test_lr.count())\n",
    "print(\"F1 for Decision Tree Model is: \", evaluator_f1.evaluate(result_test_lr))"
   ]
  },
  {
   "cell_type": "code",
   "execution_count": 152,
   "metadata": {},
   "outputs": [
    {
     "name": "stdout",
     "output_type": "stream",
     "text": [
      "Accuracy for Decision Tree Model is:  0.75\n",
      "F1 for Decision Tree Model is:  0.75408670931059\n"
     ]
    }
   ],
   "source": [
    "#Decision Tree\n",
    "result_test_dtc=cvModel_dtc.transform(test)\n",
    "print(\"Accuracy for Decision Tree Model is: \", result_test_dtc.filter(result_test_dtc.label == result_test_dtc.prediction).count()/ result_test_dtc.count())\n",
    "print(\"F1 for Decision Tree Model is: \", evaluator_f1.evaluate(result_test_dtc))"
   ]
  },
  {
   "cell_type": "code",
   "execution_count": 154,
   "metadata": {},
   "outputs": [
    {
     "name": "stdout",
     "output_type": "stream",
     "text": [
      "Accuracy for Decision Tree Model is:  0.75\n",
      "F1 for Decision Tree Model is:  0.75408670931059\n"
     ]
    }
   ],
   "source": [
    "#GBTClassifier\n",
    "result_test_gbt=cvModel_gbt.transform(test)\n",
    "print(\"Accuracy for Decision Tree Model is: \", result_test_gbt.filter(result_test_gbt.label == result_test_gbt.prediction).count()/ result_test_gbt.count())\n",
    "print(\"F1 for Decision Tree Model is: \", evaluator_f1.evaluate(result_test_gbt))"
   ]
  },
  {
   "cell_type": "markdown",
   "metadata": {},
   "source": [
    "Feature Importance"
   ]
  },
  {
   "cell_type": "code",
   "execution_count": 163,
   "metadata": {
    "scrolled": true
   },
   "outputs": [
    {
     "data": {
      "text/plain": [
       "<matplotlib.axes._subplots.AxesSubplot at 0x7fba42d7fdd8>"
      ]
     },
     "execution_count": 163,
     "metadata": {},
     "output_type": "execute_result"
    },
    {
     "data": {
      "image/png": "[encoded data removed]",
      "text/plain": [
       "<matplotlib.figure.Figure at 0x7fba42fbecf8>"
      ]
     },
     "metadata": {
      "needs_background": "light"
     },
     "output_type": "display_data"
    }
   ],
   "source": [
    "feature_importances = cvModel_dtc.bestModel.featureImportances.toArray()\n",
    "feature_importance_df = pd.DataFrame({'feature_importance': feature_importances, 'columns': features_labels})\n",
    "sns.barplot(x='feature_importance', y='columns', data=feature_importance_df)"
   ]
  },
  {
   "cell_type": "markdown",
   "metadata": {},
   "source": [
    "All of the three machine learning models performed well in predicting those customers' who will most probably end in unsubscribing. By comparing the accuray and F1 scores on both train and test datasets, the Decision Tree Classifier model appears to be the best one. The average hour per session is the most important feature in predicting unsubscribing activity which contributes overwhelmingly 70%."
   ]
  },
  {
   "cell_type": "code",
   "execution_count": 170,
   "metadata": {},
   "outputs": [],
   "source": [
    "cvModel_dtc.save('DecisionTree.model')"
   ]
  },
  {
   "cell_type": "markdown",
   "metadata": {},
   "source": [
    "# Final Steps\n",
    "Clean up your code, adding comments and renaming variables to make the code easier to read and maintain. Refer to the Spark Project Overview page and Data Scientist Capstone Project Rubric to make sure you are including all components of the capstone project and meet all expectations. Remember, this includes thorough documentation in a README file in a Github repository, as well as a web app or blog post."
   ]
  },
  {
   "cell_type": "code",
   "execution_count": null,
   "metadata": {},
   "outputs": [],
   "source": []
  }
 ],
 "metadata": {
  "kernelspec": {
   "display_name": "Python 3",
   "language": "python",
   "name": "python3"
  },
  "language_info": {
   "codemirror_mode": {
    "name": "ipython",
    "version": 3
   },
   "file_extension": ".py",
   "mimetype": "text/x-python",
   "name": "python",
   "nbconvert_exporter": "python",
   "pygments_lexer": "ipython3",
   "version": "3.6.3"
  }
 },
 "nbformat": 4,
 "nbformat_minor": 2
}
